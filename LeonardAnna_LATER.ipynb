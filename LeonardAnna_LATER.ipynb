{
  "nbformat": 4,
  "nbformat_minor": 0,
  "metadata": {
    "colab": {
      "provenance": [],
      "mount_file_id": "1yoHRSYVuFa34XzJvrI3XHr_ERvzTlFyI",
      "authorship_tag": "ABX9TyN5vBKGsDJqIMG9AVI7i+JW",
      "include_colab_link": true
    },
    "kernelspec": {
      "name": "python3",
      "display_name": "Python 3"
    },
    "language_info": {
      "name": "python"
    }
  },
  "cells": [
    {
      "cell_type": "markdown",
      "metadata": {
        "id": "view-in-github",
        "colab_type": "text"
      },
      "source": [
        "<a href=\"https://colab.research.google.com/github/annakl97/NGG6050/blob/main/LeonardAnna_LATER.ipynb\" target=\"_parent\"><img src=\"https://colab.research.google.com/assets/colab-badge.svg\" alt=\"Open In Colab\"/></a>"
      ]
    },
    {
      "cell_type": "markdown",
      "source": [
        "### LATER Fitting Exercise\n",
        "####Anna Leonard\n",
        "####Quant Neuro HW 10.11.2023\n",
        "\n",
        "Fair warning: this is going to be a big struggle because they tutorials/HW code were all only in Matlab. I don't know Matlab, I don't have Matlab. So we're trying to get this into Python here. I don't expect to be successful but we'll see."
      ],
      "metadata": {
        "id": "cWTfARAYE91d"
      }
    },
    {
      "cell_type": "code",
      "execution_count": null,
      "metadata": {
        "id": "RhoFK_7GD_9W"
      },
      "outputs": [],
      "source": [
        "# Step one seems to be loading the data\n",
        "# This seems to be accomplished with some kind of matlab command in the tutorial\n",
        "# Not sure how that works, but here I have a Python notebook opened in Google Colab,\n",
        "# and I have the data saved to my Google Drive account, which I have mounted into my Colab interface\n",
        "# So I'll try to load it directly from there\n",
        "\n",
        "# Never mind...all the data is in matlab format too\n",
        "\n",
        "# Think I'll just wait for class and see what other Python users accomplished and then maybe update later"
      ]
    }
  ]
}
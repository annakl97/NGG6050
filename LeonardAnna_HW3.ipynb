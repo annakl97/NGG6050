{
  "nbformat": 4,
  "nbformat_minor": 0,
  "metadata": {
    "colab": {
      "provenance": [],
      "authorship_tag": "ABX9TyNm1igMCUVTIkivwoLdV9K/",
      "include_colab_link": true
    },
    "kernelspec": {
      "name": "python3",
      "display_name": "Python 3"
    },
    "language_info": {
      "name": "python"
    }
  },
  "cells": [
    {
      "cell_type": "markdown",
      "metadata": {
        "id": "view-in-github",
        "colab_type": "text"
      },
      "source": [
        "<a href=\"https://colab.research.google.com/github/annakl97/NGG6050/blob/main/LeonardAnna_HW3.ipynb\" target=\"_parent\"><img src=\"https://colab.research.google.com/assets/colab-badge.svg\" alt=\"Open In Colab\"/></a>"
      ]
    },
    {
      "cell_type": "markdown",
      "source": [
        "**NGG 6050: Quant Neuro**\n",
        "\n",
        "**HW3: Binomial Distribution: Quantal Release exercise**\n",
        "\n",
        "Anna Leonard\n",
        "\n",
        "2023.09.04"
      ],
      "metadata": {
        "id": "f8N-n9Fh4SVQ"
      }
    },
    {
      "cell_type": "markdown",
      "source": [
        "**Exercise 1**\n",
        "\n",
        "Assume that there are 10 quanta available in a nerve terminal, and for a given release event each is released with a probability of 0.2. For one such event, what is the probability that 0, 1, 2, 3, 4, 5, 6, 7, 8, 9, or 10 quanta will be released?\n",
        "\n",
        "$P(X=k\\: successes)=\\left ( \\frac{n}{k} \\right )p^{k}\\left ( 1-p \\right )^{n-k}$"
      ],
      "metadata": {
        "id": "eZVnCjPCDQ2M"
      }
    },
    {
      "cell_type": "code",
      "source": [
        "# prob = probability of given number of \"successes\" (released quanta)\n",
        "# n = number of quanta available\n",
        "# p = probability of release of each quanta\n",
        "# k = number of quanta released\n",
        "\n",
        "import tabulate as t\n",
        "import matplotlib.pyplot as plt\n",
        "\n",
        "k_values = list(range(0, 11))\n",
        "table = []\n",
        "prob_values = []\n",
        "\n",
        "for k in range(0, 11):\n",
        "\n",
        "  n = 10\n",
        "  p = 0.2\n",
        "\n",
        "  if k == 0: # probability of failure = 1 - prob. of success; without doing this, 0 in the normal calculation gives a divide by zero error\n",
        "\n",
        "    prob = (1-p)\n",
        "\n",
        "  else: # binomial distribution equation shown above\n",
        "\n",
        "    prob = ( n/k ) * (p ** k) * ((1 - p) ** (n-k))\n",
        "\n",
        "  table.append([k, '{:0.3e}'.format(prob)])\n",
        "  prob_values.append(prob)\n",
        "\n",
        "# Print a table\n",
        "print(t.tabulate(table, headers=['Quanta Released (#)]', 'Probability'], tablefmt='fancy_grid'))\n",
        "\n",
        "# Above this line, I generated this code myself, using functions/formatting I learned from AI in previous assigments\n",
        "# I then asked Bard to generate code to produce a graph\n",
        "# That conversation can be found here: https://g.co/bard/share/85378c692ba3\n",
        "\n",
        "# Create a bar chart\n",
        "plt.bar(k_values, prob_values)\n",
        "\n",
        "# Label the axes\n",
        "plt.xlabel(\"Number of Quanta Released (k)\")\n",
        "plt.ylabel(\"Probability\")\n",
        "\n",
        "# Show the chart\n",
        "plt.show()"
      ],
      "metadata": {
        "colab": {
          "base_uri": "https://localhost:8080/",
          "height": 895
        },
        "id": "OeH_2Br2GsZr",
        "outputId": "1fdbacd8-a3b4-4de3-ebf4-cb0b0b00f985"
      },
      "execution_count": 8,
      "outputs": [
        {
          "output_type": "stream",
          "name": "stdout",
          "text": [
            "╒════════════════════════╤═══════════════╕\n",
            "│   Quanta Released (#)] │   Probability │\n",
            "╞════════════════════════╪═══════════════╡\n",
            "│                      0 │     0.8       │\n",
            "├────────────────────────┼───────────────┤\n",
            "│                      1 │     0.2684    │\n",
            "├────────────────────────┼───────────────┤\n",
            "│                      2 │     0.03355   │\n",
            "├────────────────────────┼───────────────┤\n",
            "│                      3 │     0.005592  │\n",
            "├────────────────────────┼───────────────┤\n",
            "│                      4 │     0.001049  │\n",
            "├────────────────────────┼───────────────┤\n",
            "│                      5 │     0.0002097 │\n",
            "├────────────────────────┼───────────────┤\n",
            "│                      6 │     4.369e-05 │\n",
            "├────────────────────────┼───────────────┤\n",
            "│                      7 │     9.362e-06 │\n",
            "├────────────────────────┼───────────────┤\n",
            "│                      8 │     2.048e-06 │\n",
            "├────────────────────────┼───────────────┤\n",
            "│                      9 │     4.551e-07 │\n",
            "├────────────────────────┼───────────────┤\n",
            "│                     10 │     1.024e-07 │\n",
            "╘════════════════════════╧═══════════════╛\n"
          ]
        },
        {
          "output_type": "display_data",
          "data": {
            "text/plain": [
              "<Figure size 640x480 with 1 Axes>"
            ],
            "image/png": "[encoded data removed]"
          },
          "metadata": {}
        }
      ]
    },
    {
      "cell_type": "markdown",
      "source": [
        "## Exercise 2\n",
        "Let's say you know that a given nerve terminal contains exactly 14 quanta available for release. You have read in the literature that the release probability of these quanta is low, say 0.1. To assess whether this value is reasonable, you run a simple experiment: activate the nerve and measure the number of quanta that are released. The result is 8 quanta. What is the probability that you would get this result (8 quanta) if the true probability of release really was 0.1? What about if the true release probability was much higher; say, 0.7? What about for each decile of release probability (0.1, 0.2, ... 1.0)? Which value of release probability did you determine to be the most probable, given your measurement?\n",
        "\n",
        "Note: here you are computing a likelihood function: a function describing how the value of the conditional probability *p*(*data* | *parameters*) changes when you hold your data fixed to the value(s) you measured and vary the value(s) of the parameter(s) of, in this case, the binomial distribution. Because you are varying the parameters and not the data, the values of the function are not expected to sum to one (e.g., you can have numerous parameters that have a very high probability of producing the given data) and thus this function is not a probability distribution (see [here](https://www.psychologicalscience.org/observer/bayes-for-beginners-probability-and-likelihood) for an extended discussion). The maximum value of this function is called the maximum likelihood."
      ],
      "metadata": {
        "id": "GjhAEwzUW45L"
      }
    },
    {
      "cell_type": "code",
      "source": [
        "# prob = probability of given number of successes\n",
        "# n = number of quanta available\n",
        "# p = probability of release of each quanta\n",
        "# k = number of quanta released\n",
        "\n",
        "import tabulate as t\n",
        "import matplotlib.pyplot as plt\n",
        "import numpy as np\n",
        "\n",
        "p_values = list(np.arange(0.1, 1.1, 0.1))\n",
        "table = []\n",
        "prob_values = []\n",
        "\n",
        "for p in np.arange(0.1, 1.1, 0.1):\n",
        "\n",
        "  k = 8\n",
        "  n = 14\n",
        "\n",
        "  prob = ( n/k ) * (p ** k) * ((1 - p) ** (n-k))\n",
        "\n",
        "  table.append([p, '{:0.3e}'.format(prob)])\n",
        "  prob_values.append(prob)\n",
        "\n",
        "# Print a table\n",
        "print(t.tabulate(table, headers=['Quantal Release Prob.', 'Prob. of 8 Quanta'], tablefmt='fancy_grid'))\n",
        "\n",
        "# Create a bar chart\n",
        "plt.bar(p_values, prob_values)\n",
        "\n",
        "# Label the axes\n",
        "plt.xlabel(\"Quantal Release Probability\")\n",
        "plt.ylabel(\"Probability of 8 Quanta Released\")\n",
        "\n",
        "# Show the chart\n",
        "plt.show()\n",
        "\n",
        "# I used ChatGPT to figure out how to print out the maximum likelihood value of p\n",
        "# That conversation is here: https://chat.openai.com/share/ec4ef576-f438-48d3-9cf0-71faab7a9e77\n",
        "\n",
        "max_prob_index = prob_values.index(max(prob_values))\n",
        "optimal_p = p_values[max_prob_index]\n",
        "print(f\"We are most likely to see a release of 8 quanta when the quantal release probability is: {optimal_p}\")"
      ],
      "metadata": {
        "colab": {
          "base_uri": "https://localhost:8080/",
          "height": 878
        },
        "id": "B-TxWZmRW5nR",
        "outputId": "9b4d7205-4a6a-43f2-9186-38e9be97f54d"
      },
      "execution_count": 2,
      "outputs": [
        {
          "output_type": "stream",
          "name": "stdout",
          "text": [
            "╒═════════════════════════╤═════════════════════╕\n",
            "│   Quantal Release Prob. │   Prob. of 8 Quanta │\n",
            "╞═════════════════════════╪═════════════════════╡\n",
            "│                     0.1 │           9.3e-09   │\n",
            "├─────────────────────────┼─────────────────────┤\n",
            "│                     0.2 │           1.174e-06 │\n",
            "├─────────────────────────┼─────────────────────┤\n",
            "│                     0.3 │           1.351e-05 │\n",
            "├─────────────────────────┼─────────────────────┤\n",
            "│                     0.4 │           5.351e-05 │\n",
            "├─────────────────────────┼─────────────────────┤\n",
            "│                     0.5 │           0.0001068 │\n",
            "├─────────────────────────┼─────────────────────┤\n",
            "│                     0.6 │           0.0001204 │\n",
            "├─────────────────────────┼─────────────────────┤\n",
            "│                     0.7 │           7.354e-05 │\n",
            "├─────────────────────────┼─────────────────────┤\n",
            "│                     0.8 │           1.879e-05 │\n",
            "├─────────────────────────┼─────────────────────┤\n",
            "│                     0.9 │           7.533e-07 │\n",
            "├─────────────────────────┼─────────────────────┤\n",
            "│                     1   │           0         │\n",
            "╘═════════════════════════╧═════════════════════╛\n"
          ]
        },
        {
          "output_type": "display_data",
          "data": {
            "text/plain": [
              "<Figure size 640x480 with 1 Axes>"
            ],
            "image/png": "[encoded data removed]"
          },
          "metadata": {}
        },
        {
          "output_type": "stream",
          "name": "stdout",
          "text": [
            "We are most likely to see a release of 8 quanta when the quantal release probability is: 0.6\n"
          ]
        }
      ]
    },
    {
      "cell_type": "markdown",
      "source": [
        "**Exercise 3**\n",
        "\n",
        "Not feeling convinced by your single experiment (good scientist!), you repeat it under identical conditions. This time you measure 5 quanta that were released. Your sample size has now doubled, to two measurements. You now want to take into account both measurements when you assess the likelihoods of different possible values of the underlying release probability. To do so, assume that the two measurements in this sample are independent of one another; that is, the value of each result had no bearing on the other. In this case, the total likelihood is simply the product of the likelihoods associated with each separate measurement. It is also typical to compute the logarithm of each likelihood and take their sum, which is often more convenient. What are the values of the total likelihood and total log-likelihood in this example, if we assume that the true release probability is 0.1?\n",
        "\n",
        "Of course, knowing those values of the likelihood and log-likelihood is not particularly useful until you can compare them to the values computed for other possible values for the release probability, so you can determine which value of release probability is most likely, given the data. Therefore, compute the full likelihood and log-likelihood functions using deciles of release probability between 0 and 1. What is the maximum value? Can you improve your estimate by computing the functions at a higher resolution? How does the estimate improve as you increase the sample size?"
      ],
      "metadata": {
        "id": "vE9tT1xNKEU1"
      }
    },
    {
      "cell_type": "code",
      "source": [
        "# Computing for the specific case of p=0.1\n",
        "import math as m\n",
        "\n",
        "# Total quanta available = 14 (n=14)\n",
        "# Quantal release probability = 0.1 (p=0.1)\n",
        "# Trial 1: quanta released = 8 (k=8)\n",
        "# Trial 2: quanta released = 5 (k=5)\n",
        "\n",
        "n = 14\n",
        "p = 0.1\n",
        "\n",
        "# Trial 1\n",
        "k1 = 8\n",
        "prob_1 = ( n/k1 ) * (p ** k1) * ((1 - p) ** (n-k1))\n",
        "\n",
        "# Trial 2\n",
        "\n",
        "k2 = 5\n",
        "prob_2 = ( n/k2 ) * (p ** k2) * ((1 - p) ** (n-k2))\n",
        "\n",
        "# Total probability as product of two independent probabilities\n",
        "\n",
        "total_prob_product = prob_1 * prob_2\n",
        "\n",
        "# Total probability as the sum of the logs of two independent probabilities\n",
        "\n",
        "total_prob_log = m.log(prob_1) + m.log(prob_2)\n",
        "\n",
        "print(\"Likelihood (product) = \", total_prob_product)\n",
        "print(\"Likelihood (log sum) = \", total_prob_log)\n",
        "\n"
      ],
      "metadata": {
        "colab": {
          "base_uri": "https://localhost:8080/"
        },
        "id": "lNFrZiZ0KPj1",
        "outputId": "4a0bb6ef-e8b9-412a-c054-df04c8197b99"
      },
      "execution_count": 1,
      "outputs": [
        {
          "output_type": "stream",
          "name": "stdout",
          "text": [
            "Likelihood (product) =  1.0088665472637811e-13\n",
            "Likelihood (log sum) =  -29.924778738673407\n"
          ]
        }
      ]
    },
    {
      "cell_type": "code",
      "source": [
        "# Computing for range of p = [0.1-0.9]\n",
        "# I did not use AI to generate this code, but tried to write it myself based on previous exercises where I got similar results from AI\n",
        "\n",
        "import tabulate as t\n",
        "import matplotlib.pyplot as plt\n",
        "import numpy as np\n",
        "import math as m\n",
        "\n",
        "p_values = list(np.arange(0.1, 1.0, 0.1))\n",
        "table = []\n",
        "likelihood_values = []\n",
        "log_likelihood_values = []\n",
        "\n",
        "for p in np.arange(0.1, 1.0, 0.1):\n",
        "\n",
        "  n = 14\n",
        "  k1 = 8\n",
        "  k2 = 5\n",
        "\n",
        "  prob_1 = ( n/k1 ) * (p ** k1) * ((1 - p) ** (n-k1))\n",
        "  prob_2 = ( n/k2 ) * (p ** k2) * ((1 - p) ** (n-k2))\n",
        "\n",
        "  likelihood = prob_1 * prob_2\n",
        "  log_likelihood = m.log(prob_1) + m.log(prob_2)\n",
        "\n",
        "  table.append([p, '{:0.3e}'.format(likelihood), '{:0.3e}'.format(log_likelihood)])\n",
        "  likelihood_values.append(likelihood)\n",
        "  log_likelihood_values.append(log_likelihood)\n",
        "\n",
        "# Print a table\n",
        "print(t.tabulate(table, headers=['Quantal Release Prob.', 'Likelihood', 'Log Likelihood'], tablefmt='fancy_grid'))\n",
        "\n",
        "# Create a line chart\n",
        "plt.plot(p_values, likelihood_values)\n",
        "plt.xlabel(\"Quantal Release Probability\")\n",
        "plt.ylabel(\"Likelihood\")\n",
        "plt.show()\n",
        "\n",
        "plt.plot(p_values, log_likelihood_values)\n",
        "plt.xlabel(\"Quantal Release Probability\")\n",
        "plt.ylabel(\"Log Likelihood\")\n",
        "plt.show()\n",
        "\n",
        "#Compute maximum Likelihood and maximum Log Likelihood\n",
        "\n",
        "max_likelihood_index = likelihood_values.index(max(likelihood_values))\n",
        "optimal_p_prod = p_values[max_likelihood_index]\n",
        "\n",
        "max_log_likelihood_index = log_likelihood_values.index(max(log_likelihood_values))\n",
        "optimal_p_log = p_values[max_log_likelihood_index]\n",
        "\n",
        "print(\"Max likelihood (product method) occurs when quantal release p =\", optimal_p_prod)\n",
        "print(\"Max likelihood (log sum method) occurs when quantal release p =\",optimal_p_log)\n"
      ],
      "metadata": {
        "id": "HEsTiNqLsyV-"
      },
      "execution_count": null,
      "outputs": []
    },
    {
      "cell_type": "code",
      "source": [
        "# Computing for range of p = [0.1-0.9] in increments of 0.01 rather than 0.1\n",
        "# Based on results, the log likelihood method seems to give a more precise answer here while the product method does not\n",
        "\n",
        "import tabulate as t\n",
        "import matplotlib.pyplot as plt\n",
        "import numpy as np\n",
        "import math as m\n",
        "\n",
        "p_values = list(np.arange(0.1, 1.0, 0.01))\n",
        "table = []\n",
        "likelihood_values = []\n",
        "log_likelihood_values = []\n",
        "\n",
        "for p in np.arange(0.1, 1.0, 0.01):\n",
        "\n",
        "  n = 14\n",
        "  k1 = 8\n",
        "  k2 = 5\n",
        "\n",
        "  prob_1 = ( n/k1 ) * (p ** k1) * ((1 - p) ** (n-k1))\n",
        "  prob_2 = ( n/k2 ) * (p ** k2) * ((1 - p) ** (n-k2))\n",
        "\n",
        "  likelihood = prob_1 * prob_2\n",
        "  log_likelihood = m.log(prob_1) + m.log(prob_2)\n",
        "\n",
        "  table.append([p, '{:0.3e}'.format(likelihood), '{:0.3e}'.format(log_likelihood)])\n",
        "  likelihood_values.append(likelihood)\n",
        "  log_likelihood_values.append(log_likelihood)\n",
        "\n",
        "# Print a table\n",
        "print(t.tabulate(table, headers=['Quantal Release Prob.', 'Likelihood', 'Log Likelihood'], tablefmt='fancy_grid'))\n",
        "\n",
        "# Create a line chart\n",
        "plt.plot(p_values, likelihood_values)\n",
        "plt.xlabel(\"Quantal Release Probability\")\n",
        "plt.ylabel(\"Likelihood\")\n",
        "plt.show()\n",
        "\n",
        "plt.plot(p_values, log_likelihood_values)\n",
        "plt.xlabel(\"Quantal Release Probability\")\n",
        "plt.ylabel(\"Log Likelihood\")\n",
        "plt.show()\n",
        "\n",
        "#Compute maximum Likelihood and maximum Log Likelihood\n",
        "\n",
        "max_likelihood_index = likelihood_values.index(max(likelihood_values))\n",
        "optimal_p_prod = p_values[max_likelihood_index]\n",
        "\n",
        "max_log_likelihood_index = log_likelihood_values.index(max(log_likelihood_values))\n",
        "optimal_p_log = p_values[max_log_likelihood_index]\n",
        "\n",
        "print(\"Max likelihood (product method) occurs when quantal release p =\", optimal_p_prod)\n",
        "print(\"Max likelihood (log sum method) occurs when quantal release p =\",optimal_p_log)\n"
      ],
      "metadata": {
        "id": "HMS3Itltq2SO"
      },
      "execution_count": null,
      "outputs": []
    },
    {
      "cell_type": "markdown",
      "source": [
        "## Exercise 4\n",
        "\n",
        "You keep going and conduct 100 separate experiments and end up with these results:\n",
        "\n",
        "Measured releases\t| Count\n",
        "---------------- | -------\n",
        "0 | 0\n",
        "1 | 0\n",
        "2 | 3\n",
        "4 | 10\n",
        "5 | 19\n",
        "6 | 26\n",
        "7 | 16\n",
        "8 | 16\n",
        "9 | 5\n",
        "10 | 5\n",
        "11 | 0\n",
        "12 | 0\n",
        "13 | 0\n",
        "14 | 0\n",
        "\n",
        "What is the most likely value of *p* (which we typically refer to as $\\hat{p}$, which is pronounced as \"p-hat\" and represents the maximum-likelihood estimate of a parameter in the population given our sample with a resolution of 0.01?\n",
        "\n",
        "BONUS: Use a fitting procedure to find $\\hat{p}$."
      ],
      "metadata": {
        "id": "U3LoXc2Wp32E"
      }
    },
    {
      "cell_type": "code",
      "source": [
        "# I think I could probably calculate this myself, essentially using the code as a calculator, given a lot of time and a lot of lines of unnecessary code\n",
        "# This time, I decided to be more efficient and go to ChatGPT\n",
        "# My conversation with ChatGPT to produce this code can be found here: https://chat.openai.com/share/169f8291-da4b-427c-b6c6-449c0ca9302e\n",
        "# This was my first experience with ChatGPT rather than Google Bard (my phone is working again)\n",
        "\n",
        "import numpy as np\n",
        "from scipy.optimize import minimize_scalar\n",
        "\n",
        "# Define the log-likelihood function\n",
        "def log_likelihood(p, data):\n",
        "    log_likelihood = 0\n",
        "    for n, k in data:\n",
        "        log_likelihood += k * np.log(p) + (n - k) * np.log(1 - p)\n",
        "    return -log_likelihood  # Minimize the negative log-likelihood\n",
        "\n",
        "# Define the observed data\n",
        "data = [(3, 2), (10, 4), (19, 5), (26, 6), (16, 7), (16, 8), (5, 9), (10, 10)]\n",
        "\n",
        "# Find the maximum likelihood estimate for p\n",
        "result = minimize_scalar(log_likelihood, bounds=(0.01, 0.9), args=(data))\n",
        "\n",
        "# Round the maximum likelihood estimate to the hundredths place\n",
        "max_likelihood_p_rounded = round(result.x, 2)\n",
        "print(f\"Maximum likelihood estimate for p (p-hat): {max_likelihood_p_rounded:.2f}\")\n"
      ],
      "metadata": {
        "colab": {
          "base_uri": "https://localhost:8080/"
        },
        "id": "vhuATslTqDrV",
        "outputId": "4e5d6809-6bc6-4cbd-8644-212509494e0d"
      },
      "execution_count": 16,
      "outputs": [
        {
          "output_type": "stream",
          "name": "stdout",
          "text": [
            "Maximum likelihood estimate for p (p-hat): 0.49\n"
          ]
        }
      ]
    },
    {
      "cell_type": "markdown",
      "source": [
        "**Exercise 5**\n",
        "\n",
        "Let's say that you have run an exhaustive set of experiments on this synapse and have determined that the true release probability is 0.3 (within some very small tolerance). Now you want to test whether changing the temperature of the preparation affects the release probability. So you change the temperature, perform the experiment, and measure 7 quantal events for the same 14 available quanta. Compute  𝑝̂  . Standard statistical inference now asks the question, what is the probability that you would have obtained that measurement given a Null Hypothesis of no effect? In this case, no effect corresponds to an unchanged value of the true release probability (i.e., its value remained at 0.3 even with the temperature change). What is the probability that you would have gotten that measurement if your Null Hypothesis were true? Can you conclude that temperature had an effect?"
      ],
      "metadata": {
        "id": "GCG6Q1Z3feHy"
      }
    },
    {
      "cell_type": "code",
      "source": [
        "# This code was generated through an extension of the ChatGPT conversation cited above\n",
        "# https://chat.openai.com/share/169f8291-da4b-427c-b6c6-449c0ca9302e\n",
        "\n",
        "import numpy as np\n",
        "from scipy.optimize import minimize_scalar\n",
        "\n",
        "# Define the log-likelihood function\n",
        "def log_likelihood(p, n, k):\n",
        "    log_likelihood = k * np.log(p) + (n - k) * np.log(1 - p)\n",
        "    return -log_likelihood  # Minimize the negative log-likelihood\n",
        "\n",
        "# Define the observed data\n",
        "n = 14  # Total number of available quanta\n",
        "k = 7   # Number of quantal events observed\n",
        "\n",
        "# Find the maximum likelihood estimate for p\n",
        "result = minimize_scalar(log_likelihood, bounds=(0.01, 0.9), args=(n, k))\n",
        "\n",
        "# Round the maximum likelihood estimate to the hundredths place\n",
        "max_likelihood_p_rounded = round(result.x, 2)\n",
        "print(f\"Maximum likelihood estimate for p (rounded to the hundredths place): {max_likelihood_p_rounded:.2f}\")\n",
        "\n"
      ],
      "metadata": {
        "colab": {
          "base_uri": "https://localhost:8080/"
        },
        "id": "51LWWs7wfpP7",
        "outputId": "ec67162c-412f-49c4-8a8b-cb95161b6591"
      },
      "execution_count": 2,
      "outputs": [
        {
          "output_type": "stream",
          "name": "stdout",
          "text": [
            "Maximum likelihood estimate for p (rounded to the hundredths place): 0.50\n"
          ]
        }
      ]
    },
    {
      "cell_type": "code",
      "source": [
        "# This code was generated through an extension of the ChatGPT conversation cited above\n",
        "# https://chat.openai.com/share/169f8291-da4b-427c-b6c6-449c0ca9302e\n",
        "\n",
        "import numpy as np\n",
        "from scipy.stats import chi2_contingency\n",
        "\n",
        "# Define the observed data\n",
        "observed_data = np.array([[7, 7], [7, 7]])  # Observed data: 7 quantal events, 7 non-events (total = 14)\n",
        "\n",
        "# Define the expected data under the null hypothesis (p = 0.3)\n",
        "expected_data = np.array([[0.3 * 14, 0.7 * 14], [0.3 * 14, 0.7 * 14]])\n",
        "\n",
        "# Perform the chi-squared test\n",
        "chi2, p, _, _ = chi2_contingency(observed_data)\n",
        "\n",
        "# Set the significance level (alpha)\n",
        "alpha = 0.05\n",
        "\n",
        "# Print the results\n",
        "print(f\"Chi-squared statistic: {chi2:.2f}\")\n",
        "print(f\"P-value: {p:.4f}\")\n",
        "\n",
        "# Check if the p-value is less than the significance level\n",
        "if p < alpha:\n",
        "    print(\"Reject the null hypothesis. Temperature had an effect on release probability.\")\n",
        "else:\n",
        "    print(\"Fail to reject the null hypothesis. Insufficient evidence to conclude temperature had an effect.\")\n"
      ],
      "metadata": {
        "colab": {
          "base_uri": "https://localhost:8080/"
        },
        "id": "9rW1RD_7htUQ",
        "outputId": "6ad9d6ea-6daa-4e48-811b-239394e1a606"
      },
      "execution_count": 3,
      "outputs": [
        {
          "output_type": "stream",
          "name": "stdout",
          "text": [
            "Chi-squared statistic: 0.00\n",
            "P-value: 1.0000\n",
            "Fail to reject the null hypothesis. Insufficient evidence to conclude temperature had an effect.\n"
          ]
        }
      ]
    }
  ]
}
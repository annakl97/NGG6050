{
  "nbformat": 4,
  "nbformat_minor": 0,
  "metadata": {
    "colab": {
      "provenance": [],
      "authorship_tag": "ABX9TyNi+f+vxusQ0PuS5bTVBMI2",
      "include_colab_link": true
    },
    "kernelspec": {
      "name": "python3",
      "display_name": "Python 3"
    },
    "language_info": {
      "name": "python"
    }
  },
  "cells": [
    {
      "cell_type": "markdown",
      "metadata": {
        "id": "view-in-github",
        "colab_type": "text"
      },
      "source": [
        "<a href=\"https://colab.research.google.com/github/annakl97/NGG6050/blob/main/LeonardAnna_CorrCoeff.ipynb\" target=\"_parent\"><img src=\"https://colab.research.google.com/assets/colab-badge.svg\" alt=\"Open In Colab\"/></a>"
      ]
    },
    {
      "cell_type": "markdown",
      "source": [
        "#### ChatGPT conversation: https://chat.openai.com/share/e998f254-5eb4-4fba-8179-f1c28bb8256b"
      ],
      "metadata": {
        "id": "91NhEdJxB0tx"
      }
    },
    {
      "cell_type": "markdown",
      "source": [
        "### 1\\. Plot X vs Y. Do they look related?"
      ],
      "metadata": {
        "id": "gPrZaxyf06xq"
      }
    },
    {
      "cell_type": "code",
      "execution_count": 1,
      "metadata": {
        "colab": {
          "base_uri": "https://localhost:8080/",
          "height": 564
        },
        "id": "Jj30D0tT0zUa",
        "outputId": "83598024-c64f-4d61-e89d-fd39d9acd70d"
      },
      "outputs": [
        {
          "output_type": "display_data",
          "data": {
            "text/plain": [
              "<Figure size 800x600 with 1 Axes>"
            ],
            "image/png": "[encoded data removed]"
          },
          "metadata": {}
        }
      ],
      "source": [
        "import matplotlib.pyplot as plt\n",
        "\n",
        "# Data\n",
        "wing_lengths = [10.4, 10.8, 11.1, 10.2, 10.3, 10.2, 10.7, 10.5, 10.8, 11.2, 10.6, 11.4]\n",
        "tail_lengths = [7.4, 7.6, 7.9, 7.2, 7.4, 7.1, 7.4, 7.2, 7.8, 7.7, 7.8, 8.3]\n",
        "\n",
        "# Create a scatter plot\n",
        "plt.figure(figsize=(8, 6))\n",
        "plt.scatter(wing_lengths, tail_lengths, c='blue', marker='o', label='Data Points')\n",
        "plt.title('Scatter Plot of Wing Length vs. Tail Length')\n",
        "plt.xlabel('Wing Length')\n",
        "plt.ylabel('Tail Length')\n",
        "plt.grid(True)\n",
        "plt.legend()\n",
        "plt.show()\n"
      ]
    },
    {
      "cell_type": "markdown",
      "source": [
        "### 2. Calculate  𝑟𝑋,𝑌  and  𝑟𝑌,𝑋 , first using the equations above and then using either the Python numpy function corrcoef or Matlab's built-in corrcoef. Did you get the same answers?"
      ],
      "metadata": {
        "id": "RRXxaTRU2ION"
      }
    },
    {
      "cell_type": "code",
      "source": [
        "# r(X,Y)\n",
        "\n",
        "def calculate_mean(data):\n",
        "    return sum(data) / len(data)\n",
        "\n",
        "def calculate_covariance(x, y):\n",
        "    n = len(x)\n",
        "    if n != len(y):\n",
        "        raise ValueError(\"Input lists must have the same length\")\n",
        "\n",
        "    x_mean = calculate_mean(x)\n",
        "    y_mean = calculate_mean(y)\n",
        "\n",
        "    covariance = sum((x[i] - x_mean) * (y[i] - y_mean) for i in range(n))\n",
        "\n",
        "    return covariance / (n - 1)  # Divide by (n-1) for sample covariance\n",
        "\n",
        "def calculate_standard_deviation(data):\n",
        "    n = len(data)\n",
        "    if n <= 1:\n",
        "        return 0.0\n",
        "\n",
        "    mean = calculate_mean(data)\n",
        "    variance = sum((x - mean) ** 2 for x in data) / (n - 1)  # Sample variance\n",
        "    return variance ** 0.5  # Standard deviation is the square root of variance\n",
        "\n",
        "def calculate_pearson_correlation(x, y):\n",
        "    cov = calculate_covariance(x, y)\n",
        "    std_dev_x = calculate_standard_deviation(x)\n",
        "    std_dev_y = calculate_standard_deviation(y)\n",
        "\n",
        "    if std_dev_x == 0 or std_dev_y == 0:\n",
        "        return 0  # Avoid division by zero if one of the standard deviations is 0\n",
        "\n",
        "    correlation = cov / (std_dev_x * std_dev_y)\n",
        "    return correlation\n",
        "\n",
        "# Data\n",
        "x = [10.4, 10.8, 11.1, 10.2, 10.3, 10.2, 10.7, 10.5, 10.8, 11.2, 10.6, 11.4]\n",
        "y = [7.4, 7.6, 7.9, 7.2, 7.4, 7.1, 7.4, 7.2, 7.8, 7.7, 7.8, 8.3]\n",
        "\n",
        "# Calculate Pearson's correlation coefficient\n",
        "correlation_coefficient = calculate_pearson_correlation(x, y)\n",
        "print(f\"Pearson's Correlation Coefficient: {correlation_coefficient}\")\n",
        "\n",
        "# r(Y,X) (what I actually adjusted here was just changing which dataset was y and which was x at the end)\n",
        "\n",
        "def calculate_mean(data):\n",
        "    return sum(data) / len(data)\n",
        "\n",
        "def calculate_covariance(x, y):\n",
        "    n = len(x)\n",
        "    if n != len(y):\n",
        "        raise ValueError(\"Input lists must have the same length\")\n",
        "\n",
        "    x_mean = calculate_mean(x)\n",
        "    y_mean = calculate_mean(y)\n",
        "\n",
        "    covariance = sum((x[i] - x_mean) * (y[i] - y_mean) for i in range(n))\n",
        "\n",
        "    return covariance / (n - 1)  # Divide by (n-1) for sample covariance\n",
        "\n",
        "def calculate_standard_deviation(data):\n",
        "    n = len(data)\n",
        "    if n <= 1:\n",
        "        return 0.0\n",
        "\n",
        "    mean = calculate_mean(data)\n",
        "    variance = sum((x - mean) ** 2 for x in data) / (n - 1)  # Sample variance\n",
        "    return variance ** 0.5  # Standard deviation is the square root of variance\n",
        "\n",
        "def calculate_pearson_correlation(x, y):\n",
        "    cov = calculate_covariance(x, y)\n",
        "    std_dev_x = calculate_standard_deviation(x)\n",
        "    std_dev_y = calculate_standard_deviation(y)\n",
        "\n",
        "    if std_dev_x == 0 or std_dev_y == 0:\n",
        "        return 0  # Avoid division by zero if one of the standard deviations is 0\n",
        "\n",
        "    correlation = cov / (std_dev_x * std_dev_y)\n",
        "    return correlation\n",
        "\n",
        "# Data\n",
        "y = [10.4, 10.8, 11.1, 10.2, 10.3, 10.2, 10.7, 10.5, 10.8, 11.2, 10.6, 11.4]\n",
        "x = [7.4, 7.6, 7.9, 7.2, 7.4, 7.1, 7.4, 7.2, 7.8, 7.7, 7.8, 8.3]\n",
        "\n",
        "# Calculate Pearson's correlation coefficient\n",
        "correlation_coefficient = calculate_pearson_correlation(x, y)\n",
        "print(f\"Pearson's Correlation Coefficient: {correlation_coefficient}\")\n"
      ],
      "metadata": {
        "colab": {
          "base_uri": "https://localhost:8080/"
        },
        "id": "2TeEuRAe2U-k",
        "outputId": "31f3bf14-e9d1-4afe-f288-a29d37767b86"
      },
      "execution_count": 3,
      "outputs": [
        {
          "output_type": "stream",
          "name": "stdout",
          "text": [
            "Pearson's Correlation Coefficient: 0.8703545613058224\n",
            "Pearson's Correlation Coefficient: 0.8703545613058224\n"
          ]
        }
      ]
    },
    {
      "cell_type": "code",
      "source": [
        "import numpy as np\n",
        "\n",
        "# Example data\n",
        "x = [10.4, 10.8, 11.1, 10.2, 10.3, 10.2, 10.7, 10.5, 10.8, 11.2, 10.6, 11.4]\n",
        "y = [7.4, 7.6, 7.9, 7.2, 7.4, 7.1, 7.4, 7.2, 7.8, 7.7, 7.8, 8.3]\n",
        "\n",
        "# Calculate Pearson's correlation coefficient using numpy.corrcoef\n",
        "correlation_matrix = np.corrcoef(x, y)\n",
        "correlation_coefficient = correlation_matrix[0, 1]\n",
        "\n",
        "print(f\"Pearson's Correlation Coefficient: {correlation_coefficient}\")\n"
      ],
      "metadata": {
        "colab": {
          "base_uri": "https://localhost:8080/"
        },
        "id": "B66xZSeX5ln-",
        "outputId": "9cd219c7-539d-41fa-8631-d3c3166de78f"
      },
      "execution_count": 4,
      "outputs": [
        {
          "output_type": "stream",
          "name": "stdout",
          "text": [
            "Pearson's Correlation Coefficient: 0.8703545613058227\n"
          ]
        }
      ]
    },
    {
      "cell_type": "markdown",
      "source": [
        "###3. What is the standard error of  𝑟𝑋,𝑌 ? The 95% confidence intervals computed from the standard error?"
      ],
      "metadata": {
        "id": "cO5oU5rc6Lh8"
      }
    },
    {
      "cell_type": "code",
      "source": [
        "import numpy as np\n",
        "from scipy import stats\n",
        "\n",
        "# Example data\n",
        "x = [10.4, 10.8, 11.1, 10.2, 10.3, 10.2, 10.7, 10.5, 10.8, 11.2, 10.6, 11.4]\n",
        "y = [7.4, 7.6, 7.9, 7.2, 7.4, 7.1, 7.4, 7.2, 7.8, 7.7, 7.8, 8.3]\n",
        "\n",
        "# Calculate Pearson's correlation coefficient\n",
        "correlation_matrix = np.corrcoef(x, y)\n",
        "correlation_coefficient = correlation_matrix[0, 1]\n",
        "\n",
        "# Sample size\n",
        "N = len(x)\n",
        "\n",
        "# Calculate the standard error of the correlation coefficient\n",
        "standard_error = np.sqrt((1 - correlation_coefficient ** 2) / (N - 2))\n",
        "\n",
        "# Calculate the critical value (z) for a 95% confidence level\n",
        "confidence_level = 0.95\n",
        "alpha = 1 - confidence_level\n",
        "z = stats.norm.ppf(1 - alpha / 2)\n",
        "\n",
        "# Calculate the margin of error (MOE)\n",
        "margin_of_error = z * standard_error\n",
        "\n",
        "# Calculate the 95% confidence interval\n",
        "confidence_interval_lower = correlation_coefficient - margin_of_error\n",
        "confidence_interval_upper = correlation_coefficient + margin_of_error\n",
        "\n",
        "print(f\"Pearson's Correlation Coefficient: {correlation_coefficient}\")\n",
        "print(f\"Standard Error: {standard_error}\")\n",
        "print(f\"95% Confidence Interval: ({confidence_interval_lower}, {confidence_interval_upper})\")\n"
      ],
      "metadata": {
        "colab": {
          "base_uri": "https://localhost:8080/"
        },
        "id": "ZWKIx9jQ6Ly3",
        "outputId": "f0eb2117-5b44-4e01-f094-577e7766c880"
      },
      "execution_count": 5,
      "outputs": [
        {
          "output_type": "stream",
          "name": "stdout",
          "text": [
            "Pearson's Correlation Coefficient: 0.8703545613058227\n",
            "Standard Error: 0.15571863652567375\n",
            "95% Confidence Interval: (0.5651516419938187, 1.1755574806178266)\n"
          ]
        }
      ]
    },
    {
      "cell_type": "markdown",
      "source": [
        "### 4\\. Should the value of $r_{X,Y}$ be considered significant at the *p*<0.05 level, given a two-tailed test (i.e., we reject if the test statistic is too large on either tail of the null distribution) for $H_0: r_{X,Y}=0$?"
      ],
      "metadata": {
        "id": "wD5yf-lW7gPz"
      }
    },
    {
      "cell_type": "code",
      "source": [
        "import numpy as np\n",
        "from scipy import stats\n",
        "\n",
        "# Example data\n",
        "x = [10.4, 10.8, 11.1, 10.2, 10.3, 10.2, 10.7, 10.5, 10.8, 11.2, 10.6, 11.4]\n",
        "y = [7.4, 7.6, 7.9, 7.2, 7.4, 7.1, 7.4, 7.2, 7.8, 7.7, 7.8, 8.3]\n",
        "\n",
        "# Calculate Pearson's correlation coefficient\n",
        "correlation_matrix = np.corrcoef(x, y)\n",
        "correlation_coefficient = correlation_matrix[0, 1]\n",
        "\n",
        "# Sample size\n",
        "N = len(x)\n",
        "\n",
        "# Calculate the t-statistic\n",
        "t_statistic = (correlation_coefficient * np.sqrt(N - 2)) / np.sqrt(1 - correlation_coefficient ** 2)\n",
        "\n",
        "# Degrees of freedom\n",
        "df = N - 2\n",
        "\n",
        "# Significance level (alpha) for a two-tailed test\n",
        "alpha = 0.05\n",
        "\n",
        "# Calculate the critical t-value\n",
        "critical_t = stats.t.ppf(1 - alpha / 2, df)\n",
        "\n",
        "# Perform the t-test\n",
        "p_value = 2 * (1 - stats.t.cdf(np.abs(t_statistic), df))\n",
        "\n",
        "# Determine whether to reject the null hypothesis\n",
        "if p_value < alpha:\n",
        "    print(f\"Reject the null hypothesis (p-value: {p_value}), there is a significant correlation.\")\n",
        "else:\n",
        "    print(f\"Fail to reject the null hypothesis (p-value: {p_value}), there is no significant correlation.\")\n"
      ],
      "metadata": {
        "colab": {
          "base_uri": "https://localhost:8080/"
        },
        "id": "BEDeBgQW7h-O",
        "outputId": "d201d9be-6d7b-4088-92f1-e7b5378a2928"
      },
      "execution_count": 6,
      "outputs": [
        {
          "output_type": "stream",
          "name": "stdout",
          "text": [
            "Reject the null hypothesis (p-value: 0.00023110594312059085), there is a significant correlation.\n"
          ]
        }
      ]
    },
    {
      "cell_type": "markdown",
      "source": [
        "### 5\\. Yale does the exact same study and finds that his correlation value is 0.75. Is this the same as yours? That is, evaluate $𝐻_0: r=0.75$."
      ],
      "metadata": {
        "id": "KSs8kRwZ8vQj"
      }
    },
    {
      "cell_type": "code",
      "source": [
        "import numpy as np\n",
        "from scipy import stats\n",
        "\n",
        "# Example data\n",
        "x = [10.4, 10.8, 11.1, 10.2, 10.3, 10.2, 10.7, 10.5, 10.8, 11.2, 10.6, 11.4]\n",
        "y = [7.4, 7.6, 7.9, 7.2, 7.4, 7.1, 7.4, 7.2, 7.8, 7.7, 7.8, 8.3]\n",
        "\n",
        "# Calculate Pearson's correlation coefficient\n",
        "correlation_matrix = np.corrcoef(x, y)\n",
        "correlation_coefficient = correlation_matrix[0, 1]\n",
        "\n",
        "# Hypothesized correlation coefficient\n",
        "rho_hypothesized = 0.75\n",
        "\n",
        "# Sample size\n",
        "N = len(x)\n",
        "\n",
        "# Calculate the t-statistic\n",
        "t_statistic = (correlation_coefficient - rho_hypothesized) / np.sqrt((1 - correlation_coefficient ** 2) / (N - 2))\n",
        "\n",
        "# Degrees of freedom\n",
        "df = N - 2\n",
        "\n",
        "# Significance level (alpha) for a two-tailed test\n",
        "alpha = 0.05\n",
        "\n",
        "# Calculate the critical t-values for a two-tailed test\n",
        "critical_t_left = stats.t.ppf(alpha / 2, df)\n",
        "critical_t_right = stats.t.ppf(1 - alpha / 2, df)\n",
        "\n",
        "# Perform the hypothesis test\n",
        "if t_statistic < critical_t_left or t_statistic > critical_t_right:\n",
        "    print(f\"Reject the null hypothesis (t-statistic: {t_statistic}), the correlation coefficient is significantly different from {rho_hypothesized}.\")\n",
        "else:\n",
        "    print(f\"Fail to reject the null hypothesis (t-statistic: {t_statistic}), the correlation coefficient is not significantly different from {rho_hypothesized}.\")\n"
      ],
      "metadata": {
        "colab": {
          "base_uri": "https://localhost:8080/"
        },
        "id": "cCtiFLmV8vdk",
        "outputId": "7eb13d49-89d8-4cd4-8f68-803c6fd95c5b"
      },
      "execution_count": 7,
      "outputs": [
        {
          "output_type": "stream",
          "name": "stdout",
          "text": [
            "Fail to reject the null hypothesis (t-statistic: 0.7728976055218637), the correlation coefficient is not significantly different from 0.75.\n"
          ]
        }
      ]
    },
    {
      "cell_type": "markdown",
      "source": [
        "###6. Finally, calculate the statistical power and sample size needed to reject  𝐻0:𝑟=0𝑤ℎ𝑒𝑛𝑟≥0.5"
      ],
      "metadata": {
        "id": "Us5W4i72BGGv"
      }
    },
    {
      "cell_type": "code",
      "source": [
        "from scipy import stats\n",
        "\n",
        "# Effect size (difference between null and alternative hypotheses)\n",
        "delta = 0.5\n",
        "\n",
        "# Significance level (alpha)\n",
        "alpha = 0.05\n",
        "\n",
        "# Desired statistical power (1 - beta)\n",
        "power = 0.80\n",
        "\n",
        "# Calculate the critical z-value for alpha\n",
        "z_alpha = stats.norm.ppf(1 - alpha)\n",
        "\n",
        "# Calculate the critical z-value for the desired power\n",
        "z_power = stats.norm.ppf(power)\n",
        "\n",
        "# Calculate the required sample size\n",
        "sample_size = ((z_alpha + z_power) / delta) ** 2\n",
        "\n",
        "print(f\"Required Sample Size: {sample_size:.2f}\")\n"
      ],
      "metadata": {
        "colab": {
          "base_uri": "https://localhost:8080/"
        },
        "id": "H4Bu7nzEBH8a",
        "outputId": "a7d0608c-ffa3-444c-b90c-285aa1e99de7"
      },
      "execution_count": 8,
      "outputs": [
        {
          "output_type": "stream",
          "name": "stdout",
          "text": [
            "Required Sample Size: 24.73\n"
          ]
        }
      ]
    }
  ]
}